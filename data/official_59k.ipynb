{
 "cells": [
  {
   "cell_type": "code",
   "execution_count": null,
   "metadata": {},
   "outputs": [],
   "source": [
    "import datasets\n",
    "import utils\n",
    "\n",
    "original_data = datasets.load_dataset(\"simplescaling/data_ablation_full59k\")\n",
    "orignal_df = original_data[\"train\"].to_pandas()\n",
    "utils.save_log_to_file(orignal_df, \"./original_59k.log\")"
   ]
  }
 ],
 "metadata": {
  "kernelspec": {
   "display_name": "s1-clone-HxblDmyw-py3.11",
   "language": "python",
   "name": "python3"
  },
  "language_info": {
   "codemirror_mode": {
    "name": "ipython",
    "version": 3
   },
   "file_extension": ".py",
   "mimetype": "text/x-python",
   "name": "python",
   "nbconvert_exporter": "python",
   "pygments_lexer": "ipython3",
   "version": "3.11.9"
  }
 },
 "nbformat": 4,
 "nbformat_minor": 2
}
